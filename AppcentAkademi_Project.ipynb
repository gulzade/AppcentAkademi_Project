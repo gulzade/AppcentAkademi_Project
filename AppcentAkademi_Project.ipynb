{
 "cells": [
  {
   "cell_type": "code",
   "execution_count": 56,
   "id": "bc20f025",
   "metadata": {},
   "outputs": [],
   "source": [
    "import random\n",
    "class Student: \n",
    "    def __init__(self,std_no,name,age,department):\n",
    "        self.std_no = std_no\n",
    "        self.name = name\n",
    "        self.department = department\n",
    "\n",
    "\n",
    "class Department(object): \n",
    "    def __init__(self, department_name):\n",
    "        self.department_name = department_name\n",
    " \n",
    "        \n",
    "class Lecture(): \n",
    "    \n",
    "    def __init__(self):\n",
    "        self.grades = {}\n",
    "        \n",
    "    \n",
    "    def add_student(self, student): #add students to the lesson\n",
    "        if student.std_no not in self.grades:\n",
    "            self.grades[(student.std_no, student.department.department_name,student.name)] = []\n",
    "        else:\n",
    "            print(\"Student already added to the list\")\n",
    "            \n",
    "            \n",
    "    def add_grade_random(self, student): #creating the student's course grade randomly\n",
    "        student_grade = random.sample(range(1,100),1)\n",
    "        self.grades[(student.std_no, student.department.department_name, student.name)].append(student_grade[0])\n",
    "     \n",
    "        \n",
    "    def dept_average_grade(self, department): #find software and computer department averages\n",
    "        dept_grades = []\n",
    "        for k,v in self.grades.items():\n",
    "            if k[1] == department.department_name:\n",
    "                dept_grades = dept_grades + v\n",
    "        return \"{:.2f}\".format(sum(dept_grades)/len(dept_grades))\n",
    "    \n",
    "\n",
    "    def decreasing_sort_dept_grades(self, department): #Sort chapter grades from successful to unsuccessful\n",
    "        dept_grades = {}      \n",
    "        for k,v in self.grades.items():\n",
    "            if k[1] == department.department_name:\n",
    "                dept_grades[k[0]] = v[0]\n",
    "        sort_dept_grades =sorted(dept_grades.items(),key=lambda x: x[1],reverse= True)\n",
    "        print(\"Sorted list of\",department.department_name, \n",
    "              \" department students of grades in descending order :\" ,end=\" \")\n",
    "               #[i[1] for i in sort_dept_grades]\n",
    "        for i in sort_dept_grades:\n",
    "            print(i[1], end=\" \")\n",
    "        return sort_dept_grades\n",
    "       \n",
    "  \n",
    "    def faculty_average_grade(self): #GPA of the faculty\n",
    "        sum_faculty_grades  = 0\n",
    "        sort_faculty_grades = sorted(self.grades.items(), key=lambda x: x[1], reverse= True)\n",
    "        print(\"Sorted list of Engineer faculty students of grades in descending order: \",end=\" \")\n",
    "        for i in sort_faculty_grades:\n",
    "            print(i[1][0], end=\" \")\n",
    "            sum_faculty_grades = sum_faculty_grades + i[1][0] \n",
    "        \n",
    "        return \"{:.2f}\".format(sum_faculty_grades/len(sort_faculty_grades))\n",
    "    \n",
    "    \n",
    "    def find_susccessful_std(self,department): #Finding the most successful student of the department\n",
    "        dept_grades = {}      \n",
    "        for k,v in self.grades.items():\n",
    "            if k[1] == department.department_name:\n",
    "                dept_grades[k[2]] = v[0]\n",
    "\n",
    "        successful_student = max(dept_grades.items(), key = lambda k : k[1])\n",
    "        print(\"The most successful student of the \", department.department_name ,\n",
    "              \"department and letter grade:\",successful_student[0],\n",
    "              \"-\", self.letter_grade(successful_student[1]))\n",
    "        \n",
    " \n",
    "    def find_unsuccessful_std(self, department): #Finding the most unsuccessful student of the department\n",
    "        dept_grades = {}      \n",
    "        for k,v in self.grades.items():\n",
    "            if k[1] == department.department_name:\n",
    "                dept_grades[k[2]] = v[0]\n",
    "\n",
    "        unsuccessful_student = min(dept_grades.items(), key = lambda k : k[1])\n",
    "        print(\"The most unsuccessful student of the \", department.department_name ,\n",
    "              \"department and letter grade:\",unsuccessful_student[0], \"-\",\n",
    "              self.letter_grade(unsuccessful_student[1]))\n",
    "   \n",
    "       \n",
    "    def find_susccessful_std_faculty(self): #Finding the most successful student of the faculty\n",
    "        faculty_grades  = {}\n",
    "        \n",
    "        for k,v in self.grades.items():\n",
    "            faculty_grades[k[2]] = v[0]\n",
    "        #print(faculty_grades)\n",
    "        successful_student = max(faculty_grades.items(), key = lambda k : k[1])\n",
    "        print(\"The most successful student of the engineer faculty and letter grade:\",\n",
    "              successful_student[0], \"-\", self.letter_grade(successful_student[1]))\n",
    "        \n",
    "    def find_unsusccessful_std_faculty(self): #Finding the most unsuccessful student of the faculty\n",
    "        faculty_grades  = {}\n",
    "          \n",
    "        for k,v in self.grades.items():\n",
    "            faculty_grades[k[2]] = v[0]\n",
    "        #print(faculty_grades)\n",
    "        successful_student = min(faculty_grades.items(), key = lambda k : k[1])\n",
    "        print(\"The most successful student of the engineer faculty and letter grade:\",\n",
    "              successful_student[0], \"-\", self.letter_grade(successful_student[1]))\n",
    "    \n",
    "        \n",
    "    def letter_grade(self,std_grade): #letter grades\n",
    "        std_letter_grade =\"\"\n",
    "        if std_grade >80 and std_grade<= 100:\n",
    "            return \"A\"\n",
    "        if std_grade >60 and std_grade<= 80:\n",
    "            return \"B\"\n",
    "        if std_grade >40 and std_grade<= 60:\n",
    "            return \"C\";\n",
    "        if std_grade >20 and std_grade<= 40:\n",
    "            return \"D\"\n",
    "        if std_grade >=0 and std_grade<= 20:\n",
    "            return \"F\"\n",
    "        return std_letter_grade\n",
    "       \n",
    "    \n",
    "      "
   ]
  },
  {
   "cell_type": "code",
   "execution_count": 57,
   "id": "8b5a1edb",
   "metadata": {},
   "outputs": [],
   "source": [
    "#Creating departments\n",
    "computer_Engineer = Department(\"Computer Engineering\") \n",
    "software_Engineer = Department(\"Software Engineering\")"
   ]
  },
  {
   "cell_type": "code",
   "execution_count": 58,
   "id": "9a9d3acb",
   "metadata": {},
   "outputs": [],
   "source": [
    "#Creating computer engineering students\n",
    "merve = Student(20220001, \"Merve Üstün\", 23, computer_Engineer) \n",
    "ali = Student(20220002, \"Ali Bakar\", 22, computer_Engineer)\n",
    "nalan = Student(20220003, \"Nalan Sarı\", 25, computer_Engineer)\n",
    "yagmur = Student(20220004, \"Yagmur Kalaycıoglu\", 20, computer_Engineer)\n",
    "yasemin = Student(20220005, \"Yasemin Tiryaki\", 19, computer_Engineer)\n",
    "baris = Student(20220006, \"Barış Efe\", 25, computer_Engineer)\n",
    "berk = Student(20220007, \"Berk Köseoğlu\", 26, computer_Engineer)\n",
    "alize = Student(20220008, \"Alize Erkenci\", 22, computer_Engineer)\n",
    "tuna = Student(20220009, \"Tuna Tuzlacı\", 29, computer_Engineer)\n",
    "deniz = Student(20220010, \"Deniz ceylan\", 23, computer_Engineer)\n",
    "arda = Student(20220011, \"Arda Şen\", 21, computer_Engineer)\n",
    "ayse = Student(202200012, \"Ayşe Onay\", 27, computer_Engineer)\n",
    "hazal = Student(20220013, \"Hazal Gencer\", 25, computer_Engineer)\n",
    "ozgur = Student(202200014, \"Özgür Karadeniz\", 21, computer_Engineer)\n",
    "tugce = Student(202200014, \"Tuğçe Koçak\", 21, computer_Engineer)\n",
    "mehmet= Student(202200016, \"Mehmet Durmuşoğlu\", 29, computer_Engineer)\n",
    "ılgaz = Student(20220017, \"Ilgaz Akagündüz\", 22, computer_Engineer)\n",
    "duru = Student(202200018, \"Duru Öztürk\", 19, computer_Engineer)\n",
    "\n",
    "#Creating software engineering students\n",
    "\n",
    "hakkı = Student(20220019, \"Hakkı Topuz\", 23, software_Engineer)\n",
    "hasan = Student(20220020, \"Hasan Dal\", 24, software_Engineer)\n",
    "ozgurmert = Student(20220021, \"Özgür Mert\", 22, software_Engineer)\n",
    "emre = Student(20220022, \"Emre Salık\", 21, software_Engineer)\n",
    "damla = Student(20220023, \"Damla Akdeniz\", 26, software_Engineer)\n",
    "ece = Student(20220024, \"Ece Çetinkaya\", 20, software_Engineer)\n",
    "sumru = Student(20220025, \"Sumru Çiçek\", 22, software_Engineer)\n",
    "emrebulan = Student(20220026, \"Emre Bulan\", 21, software_Engineer)\n",
    "can = Student(20220027, \"Can Göktepe\", 26, software_Engineer)\n",
    "kutay = Student(20220028, \"Kutay Talak\", 20, software_Engineer)\n",
    "aylin = Student(20220029, \"Aylin Demirel\", 24, software_Engineer)\n",
    "ugur = Student(20220030, \"Uğur Çalışkan\", 21, software_Engineer)"
   ]
  },
  {
   "cell_type": "code",
   "execution_count": 59,
   "id": "b4acd2b2",
   "metadata": {},
   "outputs": [],
   "source": [
    "#Creating Lecture\n",
    "software_Lecture = Lecture()\n",
    "\n",
    "#Adding students to the course\n",
    "software_Lecture.add_student(merve)\n",
    "software_Lecture.add_student(ali)\n",
    "software_Lecture.add_student(nalan)\n",
    "software_Lecture.add_student(yagmur)\n",
    "software_Lecture.add_student(yasemin)\n",
    "software_Lecture.add_student(baris)\n",
    "software_Lecture.add_student(berk)\n",
    "software_Lecture.add_student(alize)\n",
    "software_Lecture.add_student(tuna)\n",
    "software_Lecture.add_student(deniz)\n",
    "software_Lecture.add_student(arda)\n",
    "software_Lecture.add_student(ayse)\n",
    "software_Lecture.add_student(hazal)\n",
    "software_Lecture.add_student(ozgur)\n",
    "software_Lecture.add_student(tugce)\n",
    "software_Lecture.add_student(mehmet)\n",
    "software_Lecture.add_student(ılgaz)\n",
    "software_Lecture.add_student(duru)\n",
    "software_Lecture.add_student(hakkı)\n",
    "software_Lecture.add_student(hasan)\n",
    "software_Lecture.add_student(ozgurmert)\n",
    "software_Lecture.add_student(emre)\n",
    "software_Lecture.add_student(damla)\n",
    "software_Lecture.add_student(ece)\n",
    "software_Lecture.add_student(sumru)\n",
    "software_Lecture.add_student(emrebulan)\n",
    "software_Lecture.add_student(can)\n",
    "software_Lecture.add_student(kutay)\n",
    "software_Lecture.add_student(aylin)\n",
    "software_Lecture.add_student(ugur)"
   ]
  },
  {
   "cell_type": "code",
   "execution_count": 60,
   "id": "32e37ab3",
   "metadata": {},
   "outputs": [],
   "source": [
    "#add lecture notes to students\n",
    "software_Lecture.add_grade_random(merve)\n",
    "software_Lecture.add_grade_random(ali)\n",
    "software_Lecture.add_grade_random(nalan)\n",
    "software_Lecture.add_grade_random(yagmur)\n",
    "software_Lecture.add_grade_random(yasemin)\n",
    "software_Lecture.add_grade_random(baris)\n",
    "software_Lecture.add_grade_random(berk)\n",
    "software_Lecture.add_grade_random(alize)\n",
    "software_Lecture.add_grade_random(tuna)\n",
    "software_Lecture.add_grade_random(deniz)\n",
    "software_Lecture.add_grade_random(arda)\n",
    "software_Lecture.add_grade_random(ayse)\n",
    "software_Lecture.add_grade_random(hazal)\n",
    "software_Lecture.add_grade_random(ozgur)\n",
    "software_Lecture.add_grade_random(tugce)\n",
    "software_Lecture.add_grade_random(mehmet)\n",
    "software_Lecture.add_grade_random(ılgaz)\n",
    "software_Lecture.add_grade_random(duru)\n",
    "\n",
    "software_Lecture.add_grade_random(hakkı)\n",
    "software_Lecture.add_grade_random(hasan)\n",
    "software_Lecture.add_grade_random(ozgurmert)\n",
    "software_Lecture.add_grade_random(emre)\n",
    "software_Lecture.add_grade_random(damla)\n",
    "software_Lecture.add_grade_random(ece)\n",
    "software_Lecture.add_grade_random(sumru)\n",
    "software_Lecture.add_grade_random(emrebulan)\n",
    "software_Lecture.add_grade_random(can)\n",
    "software_Lecture.add_grade_random(kutay)\n",
    "software_Lecture.add_grade_random(aylin)\n",
    "software_Lecture.add_grade_random(ugur)"
   ]
  },
  {
   "cell_type": "code",
   "execution_count": 61,
   "id": "7b61a89f",
   "metadata": {},
   "outputs": [
    {
     "name": "stdout",
     "output_type": "stream",
     "text": [
      "Sorted list of Computer Engineering  department students of grades in descending order : 94 93 90 89 84 84 78 67 65 65 58 48 35 26 26 7 4 "
     ]
    }
   ],
   "source": [
    "computer_Engineer_grades= software_Lecture.decreasing_sort_dept_grades(computer_Engineer)"
   ]
  },
  {
   "cell_type": "code",
   "execution_count": 62,
   "id": "5c9cb151",
   "metadata": {},
   "outputs": [
    {
     "name": "stdout",
     "output_type": "stream",
     "text": [
      "Sorted list of Software Engineering  department students of grades in descending order : 87 82 71 61 59 52 49 48 45 42 41 32 "
     ]
    }
   ],
   "source": [
    "software_Engineer_grades = software_Lecture.decreasing_sort_dept_grades(software_Engineer)"
   ]
  },
  {
   "cell_type": "code",
   "execution_count": 63,
   "id": "0daf84cf",
   "metadata": {},
   "outputs": [
    {
     "name": "stdout",
     "output_type": "stream",
     "text": [
      "The most successful student of the  Computer Engineering department and letter grade: Arda Şen - A\n"
     ]
    }
   ],
   "source": [
    "software_Lecture.find_susccessful_std(computer_Engineer)"
   ]
  },
  {
   "cell_type": "code",
   "execution_count": 64,
   "id": "c4be109d",
   "metadata": {},
   "outputs": [
    {
     "name": "stdout",
     "output_type": "stream",
     "text": [
      "The most successful student of the  Software Engineering department and letter grade: Uğur Çalışkan - A\n"
     ]
    }
   ],
   "source": [
    "software_Lecture.find_susccessful_std(software_Engineer)"
   ]
  },
  {
   "cell_type": "code",
   "execution_count": 65,
   "id": "4262af29",
   "metadata": {},
   "outputs": [
    {
     "name": "stdout",
     "output_type": "stream",
     "text": [
      "The most unsuccessful student of the  Computer Engineering department and letter grade: Hazal Gencer - F\n"
     ]
    }
   ],
   "source": [
    "software_Lecture.find_unsuccessful_std(computer_Engineer)"
   ]
  },
  {
   "cell_type": "code",
   "execution_count": 72,
   "id": "9c921b71",
   "metadata": {},
   "outputs": [
    {
     "name": "stdout",
     "output_type": "stream",
     "text": [
      "The most unsuccessful student of the  Software Engineering department and letter grade: Emre Salık - D\n"
     ]
    }
   ],
   "source": [
    "software_Lecture.find_unsuccessful_std(software_Engineer)"
   ]
  },
  {
   "cell_type": "code",
   "execution_count": 73,
   "id": "5fb723e1",
   "metadata": {},
   "outputs": [
    {
     "name": "stdout",
     "output_type": "stream",
     "text": [
      "Computer Engineer average grade:  58.00\n"
     ]
    }
   ],
   "source": [
    "print(\"Computer Engineer average grade: \",software_Lecture.dept_average_grade(computer_Engineer))"
   ]
  },
  {
   "cell_type": "code",
   "execution_count": 74,
   "id": "959a9a19",
   "metadata": {},
   "outputs": [
    {
     "name": "stdout",
     "output_type": "stream",
     "text": [
      "Software Engineer average grade:  55.75\n"
     ]
    }
   ],
   "source": [
    "print(\"Software Engineer average grade: \", software_Lecture.dept_average_grade(software_Engineer))"
   ]
  },
  {
   "cell_type": "code",
   "execution_count": 75,
   "id": "b9e01fc2",
   "metadata": {},
   "outputs": [
    {
     "name": "stdout",
     "output_type": "stream",
     "text": [
      "Sorted list of Engineer faculty students of grades in descending order:  94 93 90 89 87 84 84 82 78 71 67 65 65 61 59 58 52 49 48 48 45 42 41 35 32 31 26 26 7 4 \n",
      "Engineer Faculty  average grade 57.10\n"
     ]
    }
   ],
   "source": [
    "faculty_average_grade= software_Lecture.faculty_average_grade()\n",
    "print(\"\\nEngineer Faculty  average grade\",faculty_average_grade)"
   ]
  },
  {
   "cell_type": "code",
   "execution_count": 76,
   "id": "9dcdb3df",
   "metadata": {},
   "outputs": [
    {
     "name": "stdout",
     "output_type": "stream",
     "text": [
      "The most successful student of the engineer faculty and letter grade: Arda Şen - A\n"
     ]
    }
   ],
   "source": [
    "software_Lecture.find_susccessful_std_faculty()"
   ]
  },
  {
   "cell_type": "code",
   "execution_count": 77,
   "id": "77a7d933",
   "metadata": {},
   "outputs": [
    {
     "name": "stdout",
     "output_type": "stream",
     "text": [
      "The most successful student of the engineer faculty and letter grade: Hazal Gencer - F\n"
     ]
    }
   ],
   "source": [
    "software_Lecture.find_unsusccessful_std_faculty()"
   ]
  }
 ],
 "metadata": {
  "kernelspec": {
   "display_name": "Python 3 (ipykernel)",
   "language": "python",
   "name": "python3"
  },
  "language_info": {
   "codemirror_mode": {
    "name": "ipython",
    "version": 3
   },
   "file_extension": ".py",
   "mimetype": "text/x-python",
   "name": "python",
   "nbconvert_exporter": "python",
   "pygments_lexer": "ipython3",
   "version": "3.8.10"
  }
 },
 "nbformat": 4,
 "nbformat_minor": 5
}
